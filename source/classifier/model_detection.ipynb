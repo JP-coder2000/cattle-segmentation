{
 "cells": [
  {
   "cell_type": "code",
   "execution_count": 20,
   "metadata": {},
   "outputs": [],
   "source": [
    "import os\n",
    "import torch\n",
    "from torchvision import transforms\n",
    "from PIL import Image\n",
    "from model_architecture import CowClassifier"
   ]
  },
  {
   "cell_type": "code",
   "execution_count": 21,
   "metadata": {},
   "outputs": [
    {
     "name": "stderr",
     "output_type": "stream",
     "text": [
      "C:\\Users\\dembo\\AppData\\Local\\Temp\\ipykernel_11564\\2687114777.py:8: FutureWarning: You are using `torch.load` with `weights_only=False` (the current default value), which uses the default pickle module implicitly. It is possible to construct malicious pickle data which will execute arbitrary code during unpickling (See https://github.com/pytorch/pytorch/blob/main/SECURITY.md#untrusted-models for more details). In a future release, the default value for `weights_only` will be flipped to `True`. This limits the functions that could be executed during unpickling. Arbitrary objects will no longer be allowed to be loaded via this mode unless they are explicitly allowlisted by the user via `torch.serialization.add_safe_globals`. We recommend you start setting `weights_only=True` for any use case where you don't have full control of the loaded file. Please open an issue on GitHub for any issues related to this experimental feature.\n",
      "  model.load_state_dict(torch.load('../../models/classifier/cow_class_model_state.pth', map_location=device))\n"
     ]
    },
    {
     "data": {
      "text/plain": [
       "CowClassifier(\n",
       "  (model): Sequential(\n",
       "    (0): Conv2d(3, 32, kernel_size=(3, 3), stride=(1, 1), padding=(1, 1))\n",
       "    (1): ReLU()\n",
       "    (2): MaxPool2d(kernel_size=2, stride=2, padding=0, dilation=1, ceil_mode=False)\n",
       "    (3): Conv2d(32, 64, kernel_size=(3, 3), stride=(1, 1), padding=(1, 1))\n",
       "    (4): ReLU()\n",
       "    (5): MaxPool2d(kernel_size=2, stride=2, padding=0, dilation=1, ceil_mode=False)\n",
       "    (6): Conv2d(64, 128, kernel_size=(3, 3), stride=(1, 1), padding=(1, 1))\n",
       "    (7): ReLU()\n",
       "    (8): MaxPool2d(kernel_size=2, stride=2, padding=0, dilation=1, ceil_mode=False)\n",
       "    (9): Flatten(start_dim=1, end_dim=-1)\n",
       "    (10): Linear(in_features=100352, out_features=128, bias=True)\n",
       "    (11): ReLU()\n",
       "    (12): Dropout(p=0.5, inplace=False)\n",
       "    (13): Linear(in_features=128, out_features=64, bias=True)\n",
       "    (14): ReLU()\n",
       "    (15): Linear(in_features=64, out_features=2, bias=True)\n",
       "  )\n",
       ")"
      ]
     },
     "execution_count": 21,
     "metadata": {},
     "output_type": "execute_result"
    }
   ],
   "source": [
    "# Configurar dispositivo\n",
    "device = torch.device('cuda' if torch.cuda.is_available() else 'cpu')\n",
    "\n",
    "# Crear instancia del modelo\n",
    "model = CowClassifier().to(device)\n",
    "\n",
    "# Cargar los pesos en el modelo\n",
    "model.load_state_dict(torch.load('../../models/classifier/cow_class_model_state.pth', map_location=device))\n",
    "model.eval()"
   ]
  },
  {
   "cell_type": "code",
   "execution_count": 22,
   "metadata": {},
   "outputs": [],
   "source": [
    "# Transform for test images (same as training)\n",
    "transform = transforms.Compose([\n",
    "    transforms.Resize((224, 224)),\n",
    "    transforms.ToTensor(),\n",
    "    transforms.Normalize([0.485, 0.456, 0.406], [0.229, 0.224, 0.225])\n",
    "])\n",
    "\n",
    "# Class labels\n",
    "class_labels = {0: 'acostada', 1: 'parada'}\n",
    "\n",
    "# Directory to process\n",
    "test_directory = '../../dataset/classifier/detect/'  # Set to the directory containing images for prediction\n",
    "\n",
    "# Counters for prediction results\n",
    "total_images = 0\n",
    "class_counts = {label: 0 for label in class_labels.keys()}"
   ]
  },
  {
   "cell_type": "code",
   "execution_count": 23,
   "metadata": {},
   "outputs": [
    {
     "name": "stdout",
     "output_type": "stream",
     "text": [
      "Image: val_0.jpg - Predicted class: acostada\n",
      "Image: val_1.jpg - Predicted class: parada\n",
      "Image: val_2.jpg - Predicted class: acostada\n",
      "Image: val_3.jpg - Predicted class: acostada\n",
      "Image: val_4.jpg - Predicted class: acostada\n",
      "Image: val_5.jpg - Predicted class: parada\n",
      "Image: val_6.jpg - Predicted class: parada\n",
      "\n",
      "Prediction Summary:\n",
      "Total images processed: 7\n",
      "Number of images in 'acostada' class: 4\n",
      "Number of images in 'parada' class: 3\n"
     ]
    }
   ],
   "source": [
    "# Process each image in the directory\n",
    "for filename in os.listdir(test_directory):\n",
    "    if filename.lower().endswith((\".jpg\", \".jpeg\", \".png\", \".bmp\", \".tiff\")):\n",
    "        img_path = os.path.join(test_directory, filename)\n",
    "        \n",
    "        try:\n",
    "            # Open and transform the image\n",
    "            image = Image.open(img_path).convert('RGB')\n",
    "            image = transform(image).unsqueeze(0).to(device)\n",
    "            \n",
    "            # Run the model on the image\n",
    "            output = model(image)\n",
    "            _, pred_label = output.max(1)\n",
    "            pred_label = pred_label.item()\n",
    "            \n",
    "            # Update counts and display result\n",
    "            class_counts[pred_label] += 1\n",
    "            total_images += 1\n",
    "            print(f\"Image: {filename} - Predicted class: {class_labels[pred_label]}\")      \n",
    "        except Exception as e:\n",
    "            print(f\"Error processing image {img_path}: {e}\")\n",
    "\n",
    "# Summary\n",
    "print(\"\\nPrediction Summary:\")\n",
    "print(f\"Total images processed: {total_images}\")\n",
    "for label, count in class_counts.items():\n",
    "    print(f\"Number of images in '{class_labels[label]}' class: {count}\")"
   ]
  }
 ],
 "metadata": {
  "kernelspec": {
   "display_name": "Python 3",
   "language": "python",
   "name": "python3"
  },
  "language_info": {
   "codemirror_mode": {
    "name": "ipython",
    "version": 3
   },
   "file_extension": ".py",
   "mimetype": "text/x-python",
   "name": "python",
   "nbconvert_exporter": "python",
   "pygments_lexer": "ipython3",
   "version": "3.12.2"
  }
 },
 "nbformat": 4,
 "nbformat_minor": 2
}
