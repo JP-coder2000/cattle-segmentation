{
 "cells": [
  {
   "cell_type": "code",
   "execution_count": 4,
   "metadata": {},
   "outputs": [],
   "source": [
    "import os\n",
    "import shutil\n",
    "import random\n",
    "from sklearn.model_selection import train_test_split\n",
    "\n",
    "# Directorios de origen y destino\n",
    "dataset_dir = '../dataset/transformed/'\n",
    "train_dir = '../dataset/split/train/'\n",
    "test_dir = '../dataset/split/test/'\n",
    "val_dir = '../dataset/split/validation/'\n"
   ]
  },
  {
   "cell_type": "code",
   "execution_count": 5,
   "metadata": {},
   "outputs": [
    {
     "name": "stdout",
     "output_type": "stream",
     "text": [
      "Total imágenes disponibles: 36\n"
     ]
    }
   ],
   "source": [
    "# Crear directorios si no existen\n",
    "os.makedirs(train_dir, exist_ok=True)\n",
    "os.makedirs(test_dir, exist_ok=True)\n",
    "os.makedirs(val_dir, exist_ok=True)\n",
    "\n",
    "# Obtener lista de todas las imágenes\n",
    "image_files = [f for f in os.listdir(dataset_dir) if f.endswith('.jpg')]\n",
    "\n",
    "print(f\"Total imágenes disponibles: {len(image_files)}\")"
   ]
  },
  {
   "cell_type": "code",
   "execution_count": 6,
   "metadata": {},
   "outputs": [
    {
     "name": "stdout",
     "output_type": "stream",
     "text": [
      "Total imágenes: 36\n",
      "Imágenes en train: 28\n",
      "Imágenes en test: 4\n",
      "Imágenes en validation: 4\n"
     ]
    }
   ],
   "source": [
    "# Dividir el dataset en train (80%), validation (10%), y test (10%)\n",
    "train_images, temp_images = train_test_split(image_files, test_size=0.2, random_state=42)\n",
    "val_images, test_images = train_test_split(temp_images, test_size=0.5, random_state=42)\n",
    "\n",
    "def copy_files(image_list, destination_folder):\n",
    "    \"\"\"Función para mover archivos a la carpeta de destino\"\"\"\n",
    "    for image in image_list:\n",
    "        src = os.path.join(dataset_dir, image)\n",
    "        dst = os.path.join(destination_folder, image)\n",
    "        shutil.copy(src, dst)\n",
    "\n",
    "# Mover imágenes a los directorios correspondientes\n",
    "copy_files(train_images, train_dir)\n",
    "copy_files(test_images, test_dir)\n",
    "copy_files(val_images, val_dir)\n",
    "\n",
    "# Confirmar el número de archivos en cada set\n",
    "print(f'Total imágenes: {len(image_files)}')\n",
    "print(f'Imágenes en train: {len(os.listdir(train_dir))}')\n",
    "print(f'Imágenes en test: {len(os.listdir(test_dir))}')\n",
    "print(f'Imágenes en validation: {len(os.listdir(val_dir))}')"
   ]
  }
 ],
 "metadata": {
  "kernelspec": {
   "display_name": "Python 3",
   "language": "python",
   "name": "python3"
  },
  "language_info": {
   "codemirror_mode": {
    "name": "ipython",
    "version": 3
   },
   "file_extension": ".py",
   "mimetype": "text/x-python",
   "name": "python",
   "nbconvert_exporter": "python",
   "pygments_lexer": "ipython3",
   "version": "3.12.2"
  }
 },
 "nbformat": 4,
 "nbformat_minor": 2
}
