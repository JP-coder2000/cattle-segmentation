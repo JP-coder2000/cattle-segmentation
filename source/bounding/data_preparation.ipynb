{
 "cells": [
  {
   "cell_type": "code",
   "execution_count": 3,
   "metadata": {},
   "outputs": [],
   "source": [
    "import os\n",
    "import shutil\n",
    "import random\n",
    "import pandas as pd\n",
    "from sklearn.model_selection import train_test_split\n",
    "\n",
    "# Define the paths to the dataset and the annotations file\n",
    "dataset_dir = '../../dataset/bounding/original/'\n",
    "train_dir = '../../dataset/bounding/split/train/'\n",
    "test_dir = '../../dataset/bounding/split/test/'\n",
    "val_dir = '../../dataset/bounding/split/validation/'\n",
    "\n",
    "# Create the directories if they don't already exist\n",
    "os.makedirs(train_dir, exist_ok=True)\n",
    "os.makedirs(test_dir, exist_ok=True)\n",
    "os.makedirs(val_dir, exist_ok=True)"
   ]
  },
  {
   "cell_type": "code",
   "execution_count": 4,
   "metadata": {},
   "outputs": [
    {
     "name": "stdout",
     "output_type": "stream",
     "text": [
      "Total imágenes disponibles: 3950\n",
      "Total anotaciones disponibles: 3950\n"
     ]
    }
   ],
   "source": [
    "# Obtener lista de todas las imágenes\n",
    "image_files = [f for f in os.listdir(dataset_dir) if f.endswith('.jpg')]\n",
    "print(f\"Total imágenes disponibles: {len(image_files)}\")\n",
    "\n",
    "# Obtener lista de todas las anotaciones\n",
    "annotation_files = [f for f in os.listdir(dataset_dir) if f.endswith('.txt')]\n",
    "print(f\"Total anotaciones disponibles: {len(annotation_files)}\")"
   ]
  },
  {
   "cell_type": "code",
   "execution_count": 5,
   "metadata": {},
   "outputs": [],
   "source": [
    "# Dividir el dataset en train (80%), validation (10%), y test (10%)\n",
    "train_images, temp_images = train_test_split(image_files, test_size=0.2, random_state=42)\n",
    "val_images, test_images = train_test_split(temp_images, test_size=0.5, random_state=42)"
   ]
  },
  {
   "cell_type": "code",
   "execution_count": 6,
   "metadata": {},
   "outputs": [],
   "source": [
    "def copy_files(image_list, destination_folder):\n",
    "    \"\"\"Función para mover imágenes y sus anotaciones a la carpeta de destino\"\"\"\n",
    "    for image in image_list:\n",
    "        # Copiar imagen\n",
    "        src_image = os.path.join(dataset_dir, image)\n",
    "        dst_image = os.path.join(destination_folder, image)\n",
    "        shutil.copy(src_image, dst_image)\n",
    "\n",
    "        # Copiar anotación correspondiente (si existe)\n",
    "        annotation_file = image.replace('.jpg', '.txt')\n",
    "        src_annotation = os.path.join(dataset_dir, annotation_file)\n",
    "        dst_annotation = os.path.join(destination_folder, annotation_file)\n",
    "\n",
    "        if os.path.exists(src_annotation):\n",
    "            shutil.copy(src_annotation, dst_annotation)\n",
    "        else:\n",
    "            print(f\"Anotación no encontrada para {image}\")"
   ]
  },
  {
   "cell_type": "code",
   "execution_count": 7,
   "metadata": {},
   "outputs": [
    {
     "name": "stdout",
     "output_type": "stream",
     "text": [
      "Total imágenes: 3950\n",
      "Imágenes en train: 3161\n",
      "Imágenes en test: 396\n",
      "Imágenes en validation: 395\n"
     ]
    }
   ],
   "source": [
    "# Mover imágenes y anotaciones a los directorios correspondientes\n",
    "copy_files(train_images, train_dir)\n",
    "copy_files(test_images, test_dir)\n",
    "copy_files(val_images, val_dir)\n",
    "\n",
    "# Confirmar el número de archivos en cada set\n",
    "print(f'Total imágenes: {len(image_files)}')\n",
    "print(f'Imágenes en train: {len(os.listdir(train_dir)) // 2}')  # Dividir por 2 porque hay imagen + anotación\n",
    "print(f'Imágenes en test: {len(os.listdir(test_dir)) // 2}')\n",
    "print(f'Imágenes en validation: {len(os.listdir(val_dir)) // 2}')"
   ]
  }
 ],
 "metadata": {
  "kernelspec": {
   "display_name": "Python 3",
   "language": "python",
   "name": "python3"
  },
  "language_info": {
   "codemirror_mode": {
    "name": "ipython",
    "version": 3
   },
   "file_extension": ".py",
   "mimetype": "text/x-python",
   "name": "python",
   "nbconvert_exporter": "python",
   "pygments_lexer": "ipython3",
   "version": "3.12.2"
  }
 },
 "nbformat": 4,
 "nbformat_minor": 2
}
