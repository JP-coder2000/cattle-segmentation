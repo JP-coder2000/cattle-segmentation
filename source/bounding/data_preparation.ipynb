{
 "cells": [
  {
   "cell_type": "code",
   "execution_count": 16,
   "metadata": {},
   "outputs": [],
   "source": [
    "import os\n",
    "import shutil\n",
    "import random\n",
    "import pandas as pd\n",
    "from sklearn.model_selection import train_test_split\n",
    "\n",
    "# Define the paths to the dataset and the annotations file\n",
    "annotations_file = '../../dataset/bounding/annotations.csv'\n",
    "train_dir = '../../dataset/bounding/split/train/'\n",
    "test_dir = '../../dataset/bounding/split/test/'\n",
    "val_dir = '../../dataset/bounding/split/validation/'\n",
    "\n",
    "# Create the directories if they don't already exist\n",
    "os.makedirs(train_dir, exist_ok=True)\n",
    "os.makedirs(test_dir, exist_ok=True)\n",
    "os.makedirs(val_dir, exist_ok=True)"
   ]
  },
  {
   "cell_type": "code",
   "execution_count": 17,
   "metadata": {},
   "outputs": [],
   "source": [
    "# Read the annotations file\n",
    "df = pd.read_csv(annotations_file)\n",
    "\n",
    "image_files = df['filename'].unique()\n",
    "train_images, temp_images = train_test_split(image_files, test_size=0.2, random_state=42)\n",
    "val_images, test_images = train_test_split(temp_images, test_size=0.5, random_state=42)"
   ]
  },
  {
   "cell_type": "code",
   "execution_count": 18,
   "metadata": {},
   "outputs": [],
   "source": [
    "# Function to save the labels in YOLO format on their respective directories\n",
    "def save_yolo_format(df, image_list, dest_dir):\n",
    "    for image in image_list:\n",
    "        annotations = df[df['filename'] == image]\n",
    "        txt_filename = os.path.join(dest_dir, os.path.splitext(image)[0] + '.txt')\n",
    "        \n",
    "        with open(txt_filename, 'w') as f:\n",
    "            for _, row in annotations.iterrows():\n",
    "                class_id = 0\n",
    "                x_center = (row['xmin'] + row['xmax']) / 2 / row['width']\n",
    "                y_center = (row['ymin'] + row['ymax']) / 2 / row['height']\n",
    "                width = (row['xmax'] - row['xmin']) / row['width']\n",
    "                height = (row['ymax'] - row['ymin']) / row['height']\n",
    "                \n",
    "                f.write(f\"{class_id} {x_center:.6f} {y_center:.6f} {width:.6f} {height:.6f}\\n\")"
   ]
  },
  {
   "cell_type": "code",
   "execution_count": 21,
   "metadata": {},
   "outputs": [
    {
     "name": "stdout",
     "output_type": "stream",
     "text": [
      "Number of train images: 2010\n",
      "Number of test images: 252\n",
      "Number of validation images: 251\n"
     ]
    }
   ],
   "source": [
    "# Save annotations on their respective directories\n",
    "save_yolo_format(df, train_images, train_dir)\n",
    "save_yolo_format(df, test_images, test_dir)\n",
    "save_yolo_format(df, val_images, val_dir)\n",
    "\n",
    "# Print the number of images saved in YOLO format\n",
    "print(f\"Number of train images: {len(train_images)}\")\n",
    "print(f\"Number of test images: {len(test_images)}\")\n",
    "print(f\"Number of validation images: {len(val_images)}\")"
   ]
  }
 ],
 "metadata": {
  "kernelspec": {
   "display_name": "Python 3",
   "language": "python",
   "name": "python3"
  },
  "language_info": {
   "codemirror_mode": {
    "name": "ipython",
    "version": 3
   },
   "file_extension": ".py",
   "mimetype": "text/x-python",
   "name": "python",
   "nbconvert_exporter": "python",
   "pygments_lexer": "ipython3",
   "version": "3.10.11"
  }
 },
 "nbformat": 4,
 "nbformat_minor": 2
}
