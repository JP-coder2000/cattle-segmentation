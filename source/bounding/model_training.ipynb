{
 "cells": [
  {
   "cell_type": "code",
   "execution_count": 1,
   "metadata": {},
   "outputs": [
    {
     "name": "stdout",
     "output_type": "stream",
     "text": [
      "True\n",
      "0\n",
      "c:\\Users\\Artur\\Desktop\\TEC\\7mo\\TC3007C\\cattle-segmentation\\source\\bounding\n"
     ]
    }
   ],
   "source": [
    "\"\"\"\n",
    "This first iteration model uses YOLOv5 to detect objects in the image.\n",
    "\n",
    "@see https://github.com/ultralytics/yolov5\n",
    "\"\"\"\n",
    "\n",
    "import pandas as pd\n",
    "import torch\n",
    "import os\n",
    "\n",
    "# Check device availability\n",
    "print(torch.cuda.is_available())\n",
    "\n",
    "# Check the current device\n",
    "print(torch.cuda.current_device())\n",
    "\n",
    "# Check the current directory\n",
    "print(os.getcwd())"
   ]
  },
  {
   "cell_type": "code",
   "execution_count": 6,
   "metadata": {},
   "outputs": [
    {
     "data": {
      "text/plain": [
       "'\\n# Clone YOLOv5 repository\\n!git clone https://github.com/ultralytics/yolov5 \\n%cd yolov5\\n\\n# Install dependencies\\n%pip install -r requirements.txt\\n%pip install comet-ml python-dotenv\\n'"
      ]
     },
     "execution_count": 6,
     "metadata": {},
     "output_type": "execute_result"
    }
   ],
   "source": [
    "\"\"\"\n",
    "# Clone YOLOv5 repository\n",
    "!git clone https://github.com/ultralytics/yolov5 \n",
    "%cd yolov5\n",
    "\n",
    "# Install dependencies\n",
    "%pip install -r requirements.txt\n",
    "\"\"\""
   ]
  },
  {
   "cell_type": "code",
   "execution_count": null,
   "metadata": {},
   "outputs": [],
   "source": [
    "\"\"\"\n",
    "!cd 'c:\\Users\\Artur\\Desktop\\TEC\\7mo semestre\\TC3007C\\cattle-segmentation\\source\\bounding\\yolov5'\n",
    "!python train.py --img 1920 --batch 4 --epochs 25 --data ../dataset.yaml --weights yolov5s.pt --device 0\n",
    "\"\"\""
   ]
  }
 ],
 "metadata": {
  "kernelspec": {
   "display_name": "Python 3",
   "language": "python",
   "name": "python3"
  },
  "language_info": {
   "codemirror_mode": {
    "name": "ipython",
    "version": 3
   },
   "file_extension": ".py",
   "mimetype": "text/x-python",
   "name": "python",
   "nbconvert_exporter": "python",
   "pygments_lexer": "ipython3",
   "version": "3.10.11"
  }
 },
 "nbformat": 4,
 "nbformat_minor": 2
}
