{
 "cells": [
  {
   "cell_type": "code",
   "execution_count": 1,
   "metadata": {},
   "outputs": [],
   "source": [
    "import os\n",
    "import sys\n",
    "import torch\n",
    "import pathlib\n",
    "import platform\n",
    "import numpy as np\n",
    "from PIL import Image\n",
    "from model_utils import setup_logger"
   ]
  },
  {
   "cell_type": "code",
   "execution_count": 2,
   "metadata": {},
   "outputs": [
    {
     "name": "stderr",
     "output_type": "stream",
     "text": [
      "2024-11-26 18:32:32,976 - INFO - Logger configurado correctamente. Archivo de logs: ../logs\\execution_logs_20241126_183232.txt\n"
     ]
    }
   ],
   "source": [
    "# Inicializar el logger\n",
    "logger = setup_logger()"
   ]
  },
  {
   "cell_type": "code",
   "execution_count": 3,
   "metadata": {},
   "outputs": [
    {
     "name": "stderr",
     "output_type": "stream",
     "text": [
      "2024-11-26 18:32:32,992 - INFO - Sistema operativo: Windows - Configuración de pathlib.Path a WindowsPath\n"
     ]
    }
   ],
   "source": [
    "# Detectar sistema operativo\n",
    "os_name = platform.system()\n",
    "\n",
    "if os_name == \"Windows\":\n",
    "    # Configuración para Windows\n",
    "    temp = pathlib.PosixPath\n",
    "    pathlib.PosixPath = pathlib.WindowsPath \n",
    "    logger.info(\"Sistema operativo: Windows - Configuración de pathlib.Path a WindowsPath\")\n",
    "elif os_name in (\"Linux\", \"Darwin\"):  # Darwin es para macOS\n",
    "    # Configuración para sistemas tipo Unix (Linux, macOS)\n",
    "    temp = pathlib.PosixPath\n",
    "    pathlib.WindowsPath = pathlib.PosixPath\n",
    "    logger.info(f\"Sistema operativo: {os_name} - Configuración de pathlib.Path a PosixPath\")\n",
    "else:\n",
    "    log_msg = f\"Sistema operativo no soportado: {os_name}\"\n",
    "    logger.error(log_msg)\n",
    "    raise OSError(log_msg)"
   ]
  },
  {
   "cell_type": "code",
   "execution_count": 4,
   "metadata": {},
   "outputs": [],
   "source": [
    "# Obtener el directorio del notebook\n",
    "notebook_dir = os.getcwd()\n",
    "\n",
    "# Subir al directorio raíz del proyecto\n",
    "project_dir = os.path.abspath(os.path.join(notebook_dir, '..'))\n",
    "sys.path.append(project_dir)\n",
    "\n",
    "# Importar módulos y funciones\n",
    "from classifier.model_architecture import CowClassifier\n",
    "from database.db_utils import add_image_info, add_cow_detail"
   ]
  },
  {
   "cell_type": "code",
   "execution_count": 5,
   "metadata": {},
   "outputs": [
    {
     "name": "stderr",
     "output_type": "stream",
     "text": [
      "Using cache found in C:\\Users\\Artur/.cache\\torch\\hub\\ultralytics_yolov5_master\n",
      "YOLOv5  2024-10-31 Python-3.10.11 torch-2.0.1+cu117 CUDA:0 (NVIDIA GeForce RTX 3070 Ti, 8192MiB)\n",
      "\n",
      "Fusing layers... \n",
      "Model summary: 157 layers, 7012822 parameters, 0 gradients, 15.8 GFLOPs\n",
      "Adding AutoShape... \n",
      "2024-11-26 18:32:37,404 - INFO - Modelo de detección cargado correctamente.\n",
      "2024-11-26 18:32:37,499 - INFO - Modelo de clasificación cargado correctamente.\n"
     ]
    }
   ],
   "source": [
    "try:\n",
    "    # Configurar dispositivo\n",
    "    device = torch.device('cuda' if torch.cuda.is_available() else 'cpu')\n",
    "\n",
    "    # Cargar de detección\n",
    "    model_detection = torch.hub.load('ultralytics/yolov5', 'custom', '../models/bounding/best.pt')\n",
    "    logger.info(\"Modelo de detección cargado correctamente.\")\n",
    "\n",
    "    # Cargar modelo de clasificación\n",
    "    model_classification = CowClassifier().to(device)\n",
    "\n",
    "    # Cargar los pesos en el modelo de clasificación\n",
    "    model_classification.load_state_dict(torch.load('../models/classifier/cow_class_model_state.pth', map_location=device))\n",
    "    model_classification.eval()\n",
    "    logger.info(\"Modelo de clasificación cargado correctamente.\")\n",
    "except Exception as e:\n",
    "    logger.error(f\"Error al cargar los modelos: {e}\")\n",
    "    raise e"
   ]
  },
  {
   "cell_type": "code",
   "execution_count": 6,
   "metadata": {},
   "outputs": [
    {
     "name": "stderr",
     "output_type": "stream",
     "text": [
      "2024-11-26 18:32:37,549 - INFO - Conexión a base de datos inicializada.\n"
     ]
    }
   ],
   "source": [
    "from datetime import datetime\n",
    "from model_utils import calculate_centroid, crop_and_save_detection\n",
    "from database.db_utils import add_image_info, add_cow_detail\n",
    "from database.db_init import ImageInfo\n",
    "from sqlalchemy.orm import sessionmaker\n",
    "from sqlalchemy import create_engine\n",
    "from dotenv import load_dotenv\n",
    "\n",
    "# Cargar variables de entorno\n",
    "load_dotenv()\n",
    "\n",
    "# Configurar URL de la base de datos\n",
    "DB_URL = os.getenv('DB_FULL_URL')\n",
    "\n",
    "# Inicialización de la base de datos\n",
    "engine = create_engine(DB_URL)\n",
    "Session = sessionmaker(bind=engine)\n",
    "session = Session()\n",
    "\n",
    "try:\n",
    "    # Inicialización de la base de datos\n",
    "    engine = create_engine(DB_URL)\n",
    "    Session = sessionmaker(bind=engine)\n",
    "    session = Session()\n",
    "    # Verificar el estado de la conexión\n",
    "    with engine.connect() as connection:\n",
    "        logger.info(\"Conexión a base de datos inicializada.\")\n",
    "except Exception as e:\n",
    "    logger.error(f\"Error al conectar con la base de datos: {e}\")\n",
    "    raise e"
   ]
  },
  {
   "cell_type": "code",
   "execution_count": 7,
   "metadata": {},
   "outputs": [],
   "source": [
    "def detect_objects(directory):\n",
    "    \"\"\"\n",
    "    Performs object detection and posture classification on the specified images\n",
    "    \"\"\"\n",
    "    logger.info(f\"Iniciando procesamiento de detección y clasificación en imágenes del directorio {directory}\")\n",
    "    predictions = {}\n",
    "    posture_counts = {'vaca_acostada': 0, 'vaca_de_pie': 0, 'clasificación_fallida': 0}\n",
    "    \n",
    "    for filename in os.listdir(directory):   \n",
    "        try:\n",
    "            if filename.endswith(('.png', '.jpg', '.jpeg')):\n",
    "\n",
    "                existing_image = session.query(ImageInfo).filter_by(file_name=filename).first()\n",
    "                if existing_image:\n",
    "                    logger.info(f\"Ya existe una predicción para el archivo {filename}. Omitiendo predicción...\")\n",
    "                    continue  # Si ya existe, omite el procesamiento\n",
    "\n",
    "                img_path = os.path.join(directory, filename)\n",
    "                original_img = np.array(Image.open(img_path))\n",
    "                \n",
    "                # Redimensionar para la detección\n",
    "                img_resized = Image.open(img_path).resize((640, 320))\n",
    "                img_resized_array = np.array(img_resized)\n",
    "\n",
    "                # Realizar la detección\n",
    "                results = model_detection(img_resized_array)\n",
    "                results_df = results.pandas().xyxy[0]\n",
    "                \n",
    "                # Factores de escala\n",
    "                scale_x = original_img.shape[1] / 640\n",
    "                scale_y = original_img.shape[0] / 320\n",
    "                \n",
    "                detections = []\n",
    "                \n",
    "                # Obtener el timestamp actual (fecha + hora)\n",
    "                processed_at = datetime.now()\n",
    "                cow_count = len(results_df)\n",
    "\n",
    "                # Añadir la información de la imagen a la base de datos\n",
    "                image_id = add_image_info(processed_at, cow_count, filename)\n",
    "                \n",
    "                # Procesar cada detección\n",
    "                for idx, detection in results_df.iterrows():\n",
    "                    # Ajustar coordenadas a escala original\n",
    "                    xmin = detection['xmin'] * scale_x\n",
    "                    ymin = detection['ymin'] * scale_y\n",
    "                    xmax = detection['xmax'] * scale_x\n",
    "                    ymax = detection['ymax'] * scale_y\n",
    "                    \n",
    "                    centroid = calculate_centroid(xmin, ymin, xmax, ymax)\n",
    "                    \n",
    "                    # Recortar, clasificar y guardar la detección\n",
    "                    posture = crop_and_save_detection(original_img, \n",
    "                                                    {'xmin': xmin, 'ymin': ymin, \n",
    "                                                    'xmax': xmax, 'ymax': ymax}, \n",
    "                                                    filename, idx, True)\n",
    "                    \n",
    "                    # Actualizar contadores\n",
    "                    posture_counts[posture] += 1\n",
    "                    \n",
    "                    # Guardar detalles de la vaca en la base de datos\n",
    "                    add_cow_detail(\n",
    "                        id_img_fk=image_id,\n",
    "                        centroid=centroid,\n",
    "                        accuracy=detection['confidence'],\n",
    "                        posture=posture\n",
    "                    )\n",
    "                    \n",
    "                    # Guardar información de la detección en una lista\n",
    "                    detection_info = {\n",
    "                        'xmin': xmin,\n",
    "                        'ymin': ymin,\n",
    "                        'xmax': xmax,\n",
    "                        'ymax': ymax,\n",
    "                        'centroid_x': centroid[0],\n",
    "                        'centroid_y': centroid[1],\n",
    "                        'confidence': detection['confidence'],\n",
    "                        'class': detection['class'],\n",
    "                        'name': detection['name'],\n",
    "                        'posture': posture\n",
    "                    }\n",
    "                    detections.append(detection_info)\n",
    "                    \n",
    "                log_msg = (f\"Imagen procesada: {filename} | Vacas detectadas: {len(detections)}\")\n",
    "                logger.info(log_msg)\n",
    "                \n",
    "                predictions[filename] = detections\n",
    "\n",
    "        except Exception as e:\n",
    "            logger.error(f\"Error al procesar el archivo {filename}: {str(e)}\")\n",
    "    \n",
    "    logger.info(\"Procesamiento de imágenes completado.\")\n",
    "    return predictions"
   ]
  },
  {
   "cell_type": "code",
   "execution_count": 9,
   "metadata": {},
   "outputs": [
    {
     "name": "stderr",
     "output_type": "stream",
     "text": [
      "2024-11-26 18:33:29,668 - INFO - Iniciando procesamiento de detección y clasificación en imágenes del directorio ../dataset/bounding/detect/\n",
      "2024-11-26 18:33:29,853 - INFO - Imagen procesada: val_0.jpg | Vacas detectadas: 2\n",
      "2024-11-26 18:33:29,934 - INFO - Imagen procesada: val_1.jpg | Vacas detectadas: 1\n",
      "2024-11-26 18:33:30,037 - INFO - Imagen procesada: val_2.jpg | Vacas detectadas: 2\n",
      "2024-11-26 18:33:30,137 - INFO - Imagen procesada: val_3.jpg | Vacas detectadas: 3\n",
      "2024-11-26 18:33:30,228 - INFO - Imagen procesada: val_4.jpg | Vacas detectadas: 2\n",
      "2024-11-26 18:33:30,318 - INFO - Imagen procesada: val_5.jpg | Vacas detectadas: 2\n",
      "2024-11-26 18:33:30,412 - INFO - Imagen procesada: val_6.jpg | Vacas detectadas: 2\n",
      "2024-11-26 18:33:30,541 - INFO - Imagen procesada: val_7.jpg | Vacas detectadas: 4\n",
      "2024-11-26 18:33:30,542 - INFO - Procesamiento de imágenes completado.\n"
     ]
    }
   ],
   "source": [
    "DIRECTORY = '../dataset/bounding/detect/'\n",
    "\n",
    "# Ejecutar la detección y obtener los resultados\n",
    "results = detect_objects(DIRECTORY)"
   ]
  }
 ],
 "metadata": {
  "kernelspec": {
   "display_name": "Python 3",
   "language": "python",
   "name": "python3"
  },
  "language_info": {
   "codemirror_mode": {
    "name": "ipython",
    "version": 3
   },
   "file_extension": ".py",
   "mimetype": "text/x-python",
   "name": "python",
   "nbconvert_exporter": "python",
   "pygments_lexer": "ipython3",
   "version": "3.10.11"
  }
 },
 "nbformat": 4,
 "nbformat_minor": 2
}
